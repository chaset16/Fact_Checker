{
 "cells": [
  {
   "cell_type": "code",
   "execution_count": 94,
   "metadata": {},
   "outputs": [],
   "source": [
    "import selenium\n",
    "from selenium import webdriver\n",
    "from selenium.webdriver.common.keys import Keys\n",
    "\n",
    "import pandas as pd\n",
    "import json\n",
    "import csv\n",
    "import nltk\n",
    "\n",
    "import time\n",
    "import re\n",
    "#from pyspark.sql.functions import split, explode\n",
    "import numpy as np\n",
    "\n",
    "from bs4 import BeautifulSoup\n",
    "import requests\n",
    "import os"
   ]
  },
  {
   "cell_type": "code",
   "execution_count": 95,
   "metadata": {},
   "outputs": [],
   "source": [
    "#Open Twitter login page\n",
    "driver = webdriver.Chrome(\"/Users/chase/Downloads/chromedriver\")\n",
    "driver.get(r\"https://www.nowinstock.net/videogaming/consoles/sonyps5/\")\n",
    "time.sleep(3)"
   ]
  },
  {
   "cell_type": "code",
   "execution_count": null,
   "metadata": {},
   "outputs": [],
   "source": [
    "while df[0][1] == 'Dec 11 - 5:09 PM EST':\n",
    "    driver.find_element_by_css_selector(\"#DisplayHistory > div:nth-child(1) > a > img\").click()\n",
    "    time.sleep(10)\n",
    "    page = requests.get(\"https://www.nowinstock.net/videogaming/consoles/sonyps5/\")\n",
    "    soup = BeautifulSoup(page.content, 'html.parser')\n",
    "    tables = soup.find_all(\"table\")\n",
    "    table = tables[3]\n",
    "    tab_data = [[cell.text for cell in row.find_all([\"th\",\"td\"])]\n",
    "            for row in table.find_all(\"tr\")]\n",
    "    df = pd.DataFrame(tab_data)\n",
    "os.system('say \"your program has finished\"')\n",
    "time.sleep(5)\n",
    "os.system('say \"your program has finished\"')"
   ]
  },
  {
   "cell_type": "code",
   "execution_count": 100,
   "metadata": {},
   "outputs": [],
   "source": [
    "page = requests.get(\"https://www.nowinstock.net/videogaming/consoles/sonyps5/\")\n",
    "soup = BeautifulSoup(page.content, 'html.parser')\n",
    "tables = soup.find_all(\"table\")\n",
    "table = tables[3]\n",
    "tab_data = [[cell.text for cell in row.find_all([\"th\",\"td\"])]\n",
    "for row in table.find_all(\"tr\")]\n",
    "df = pd.DataFrame(tab_data)"
   ]
  },
  {
   "cell_type": "code",
   "execution_count": 101,
   "metadata": {},
   "outputs": [
    {
     "data": {
      "text/html": [
       "<div>\n",
       "<style scoped>\n",
       "    .dataframe tbody tr th:only-of-type {\n",
       "        vertical-align: middle;\n",
       "    }\n",
       "\n",
       "    .dataframe tbody tr th {\n",
       "        vertical-align: top;\n",
       "    }\n",
       "\n",
       "    .dataframe thead th {\n",
       "        text-align: right;\n",
       "    }\n",
       "</style>\n",
       "<table border=\"1\" class=\"dataframe\">\n",
       "  <thead>\n",
       "    <tr style=\"text-align: right;\">\n",
       "      <th></th>\n",
       "      <th>0</th>\n",
       "      <th>1</th>\n",
       "    </tr>\n",
       "  </thead>\n",
       "  <tbody>\n",
       "    <tr>\n",
       "      <th>0</th>\n",
       "      <td>Date/Time</td>\n",
       "      <td>Status</td>\n",
       "    </tr>\n",
       "    <tr>\n",
       "      <th>1</th>\n",
       "      <td>Dec 11 - 5:09 PM EST</td>\n",
       "      <td>Playstation Direct : Console Digital Edition O...</td>\n",
       "    </tr>\n",
       "    <tr>\n",
       "      <th>2</th>\n",
       "      <td>Dec 11 - 4:53 PM EST</td>\n",
       "      <td>Playstation Direct : Console Digital Edition I...</td>\n",
       "    </tr>\n",
       "    <tr>\n",
       "      <th>3</th>\n",
       "      <td>Dec 11 - 4:51 PM EST</td>\n",
       "      <td>Playstation Direct : Console Digital Edition O...</td>\n",
       "    </tr>\n",
       "    <tr>\n",
       "      <th>4</th>\n",
       "      <td>Dec 11 - 4:49 PM EST</td>\n",
       "      <td>Playstation Direct : Console Digital Edition I...</td>\n",
       "    </tr>\n",
       "    <tr>\n",
       "      <th>5</th>\n",
       "      <td>Dec 10 - 6:23 PM EST</td>\n",
       "      <td>Playstation Direct : Console Digital Edition O...</td>\n",
       "    </tr>\n",
       "    <tr>\n",
       "      <th>6</th>\n",
       "      <td>Dec 10 - 6:18 PM EST</td>\n",
       "      <td>Playstation Direct : Console Out of Stock</td>\n",
       "    </tr>\n",
       "    <tr>\n",
       "      <th>7</th>\n",
       "      <td>Dec 10 - 6:15 PM EST</td>\n",
       "      <td>Playstation Direct : Console In Stock for $499.99</td>\n",
       "    </tr>\n",
       "    <tr>\n",
       "      <th>8</th>\n",
       "      <td>Dec 10 - 6:14 PM EST</td>\n",
       "      <td>Playstation Direct : Console Out of Stock</td>\n",
       "    </tr>\n",
       "    <tr>\n",
       "      <th>9</th>\n",
       "      <td>Dec 10 - 6:13 PM EST</td>\n",
       "      <td>Playstation Direct : Console Digital Edition I...</td>\n",
       "    </tr>\n",
       "    <tr>\n",
       "      <th>10</th>\n",
       "      <td>Dec 10 - 6:11 PM EST</td>\n",
       "      <td>Playstation Direct : Console Digital Edition O...</td>\n",
       "    </tr>\n",
       "  </tbody>\n",
       "</table>\n",
       "</div>"
      ],
      "text/plain": [
       "                       0                                                  1\n",
       "0              Date/Time                                             Status\n",
       "1   Dec 11 - 5:09 PM EST  Playstation Direct : Console Digital Edition O...\n",
       "2   Dec 11 - 4:53 PM EST  Playstation Direct : Console Digital Edition I...\n",
       "3   Dec 11 - 4:51 PM EST  Playstation Direct : Console Digital Edition O...\n",
       "4   Dec 11 - 4:49 PM EST  Playstation Direct : Console Digital Edition I...\n",
       "5   Dec 10 - 6:23 PM EST  Playstation Direct : Console Digital Edition O...\n",
       "6   Dec 10 - 6:18 PM EST          Playstation Direct : Console Out of Stock\n",
       "7   Dec 10 - 6:15 PM EST  Playstation Direct : Console In Stock for $499.99\n",
       "8   Dec 10 - 6:14 PM EST          Playstation Direct : Console Out of Stock\n",
       "9   Dec 10 - 6:13 PM EST  Playstation Direct : Console Digital Edition I...\n",
       "10  Dec 10 - 6:11 PM EST  Playstation Direct : Console Digital Edition O..."
      ]
     },
     "execution_count": 101,
     "metadata": {},
     "output_type": "execute_result"
    }
   ],
   "source": [
    "df"
   ]
  },
  {
   "cell_type": "code",
   "execution_count": 65,
   "metadata": {},
   "outputs": [
    {
     "data": {
      "text/plain": [
       "'Playstation Direct : Console Digital Edition Out of Stock'"
      ]
     },
     "execution_count": 65,
     "metadata": {},
     "output_type": "execute_result"
    }
   ],
   "source": [
    "df[1][1]"
   ]
  },
  {
   "cell_type": "code",
   "execution_count": 50,
   "metadata": {},
   "outputs": [
    {
     "data": {
      "text/plain": [
       "'Dec 10 - 6:23 PM EST'"
      ]
     },
     "execution_count": 50,
     "metadata": {},
     "output_type": "execute_result"
    }
   ],
   "source": [
    "df[0][1]"
   ]
  },
  {
   "cell_type": "code",
   "execution_count": null,
   "metadata": {},
   "outputs": [],
   "source": [
    "bank = "
   ]
  }
 ],
 "metadata": {
  "kernelspec": {
   "display_name": "Python 3",
   "language": "python",
   "name": "python3"
  }
 },
 "nbformat": 4,
 "nbformat_minor": 2
}
